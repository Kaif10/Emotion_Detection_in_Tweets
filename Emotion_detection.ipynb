{
  "nbformat": 4,
  "nbformat_minor": 0,
  "metadata": {
    "colab": {
      "name": "Emotion_detection.ipynb",
      "provenance": [],
      "collapsed_sections": [],
      "authorship_tag": "ABX9TyNsPHCOTYfmmjfQmgAYZ/NO",
      "include_colab_link": true
    },
    "kernelspec": {
      "name": "python3",
      "display_name": "Python 3"
    }
  },
  "cells": [
    {
      "cell_type": "markdown",
      "metadata": {
        "id": "view-in-github",
        "colab_type": "text"
      },
      "source": [
        "<a href=\"https://colab.research.google.com/github/Kaif10/Friends_emotion-detection-with-NLP/blob/master/Emotion_detection.ipynb\" target=\"_parent\"><img src=\"https://colab.research.google.com/assets/colab-badge.svg\" alt=\"Open In Colab\"/></a>"
      ]
    },
    {
      "cell_type": "markdown",
      "metadata": {
        "id": "wWPCgvcslNmz",
        "colab_type": "text"
      },
      "source": [
        "In this notebook, I have trained A Neural Net with Bi-directional LSTM on emotion-detection data,  classifying text into love, sadness, fear, etc. I then scraped some tweets from twitter to test my model and got pretty good predictions."
      ]
    },
    {
      "cell_type": "markdown",
      "metadata": {
        "id": "bxK6vr8ZmEEU",
        "colab_type": "text"
      },
      "source": [
        "\n",
        "A. Analysing the text.\n",
        "\n",
        "B. Removing Stopwords. \n",
        "\n",
        "C. lemmatization.\n",
        "\n",
        "D.Converting it to dataframe.\n",
        "\n",
        "E. Tokeniztion and converting it to a numvector\n",
        "\n",
        "F. Training the model.\n",
        "\n",
        "G. Scraping tweets from two accounts with twitter_scraper.\n",
        "\n",
        "H. Predicting sentiment of tweets with the trained model.\n"
      ]
    },
    {
      "cell_type": "code",
      "metadata": {
        "id": "a8v29pZG-cMk",
        "colab_type": "code",
        "colab": {}
      },
      "source": [
        "#import required modules \n",
        "import pandas as pd\n",
        "import matplotlib.pyplot as plt\n"
      ],
      "execution_count": 0,
      "outputs": []
    },
    {
      "cell_type": "code",
      "metadata": {
        "id": "6fwHYRsT7CJK",
        "colab_type": "code",
        "colab": {}
      },
      "source": [
        "#display.max_colwidth will show us entire columns without truncating any part\n",
        "pd.set_option('display.max_colwidth', None)\n",
        "\n",
        "#read data\n",
        "train_data = open(\"train.txt\", \"r\")\n",
        "val_data = open(\"val.txt\", \"r\")\n"
      ],
      "execution_count": 0,
      "outputs": []
    },
    {
      "cell_type": "code",
      "metadata": {
        "id": "3Snr_QY6-YPv",
        "colab_type": "code",
        "outputId": "3491dae6-fb12-4675-fd00-5948068c6264",
        "colab": {
          "base_uri": "https://localhost:8080/",
          "height": 252
        }
      },
      "source": [
        "#Read have a look at some of the lines from the file\n",
        "for i in range(1,15):\n",
        "  print(train_data.readlines(i))\n",
        "  \n",
        "#We can cleraly see the sentences and their labels are seperated by ';' "
      ],
      "execution_count": 0,
      "outputs": [
        {
          "output_type": "stream",
          "text": [
            "['i didnt feel humiliated;sadness\\n']\n",
            "['i can go from feeling so hopeless to so damned hopeful just from being around someone who cares and is awake;sadness\\n']\n",
            "['im grabbing a minute to post i feel greedy wrong;anger\\n']\n",
            "['i am ever feeling nostalgic about the fireplace i will know that it is still on the property;love\\n']\n",
            "['i am feeling grouchy;anger\\n']\n",
            "['ive been feeling a little burdened lately wasnt sure why that was;sadness\\n']\n",
            "['ive been taking or milligrams or times recommended amount and ive fallen asleep a lot faster but i also feel like so funny;surprise\\n']\n",
            "['i feel as confused about life as a teenager or as jaded as a year old man;fear\\n']\n",
            "['i have been with petronas for years i feel that petronas has performed well and made a huge profit;joy\\n']\n",
            "['i feel romantic too;love\\n']\n",
            "['i feel like i have to make the suffering i m seeing mean something;sadness\\n']\n",
            "['i do feel that running is a divine experience and that i can expect to have some type of spiritual encounter;joy\\n']\n",
            "['i think it s the easiest time of year to feel dissatisfied;anger\\n']\n",
            "['i feel low energy i m just thirsty;sadness\\n']\n"
          ],
          "name": "stdout"
        }
      ]
    },
    {
      "cell_type": "markdown",
      "metadata": {
        "id": "09JSdTwxm-i9",
        "colab_type": "text"
      },
      "source": [
        "Function for cleaning text."
      ]
    },
    {
      "cell_type": "code",
      "metadata": {
        "id": "M-TGhFrUBmg_",
        "colab_type": "code",
        "colab": {}
      },
      "source": [
        "import time\n",
        "# Text Processing Libraries\n",
        "import spacy\n",
        "import re\n",
        "import string\n",
        "\n",
        "def clean_text(text):\n",
        "    '''Make text lowercase, remove text in square brackets,remove links,remove punctuation\n",
        "    and remove words containing numbers.'''\n",
        "    \n",
        "    text = re.sub('\\[.*?\\]', '', text)\n",
        "    text = re.sub('https?://\\S+|www\\.\\S+', '', text)\n",
        "    text = re.sub('<.*?>+', '', text)\n",
        "    text = re.sub('[%s]' % re.escape(string.punctuation), '', text)\n",
        "    text = re.sub('\\n', '', text)\n",
        "    text = re.sub('\\w*\\d\\w*', '', text)\n",
        "    return text.lower()\n"
      ],
      "execution_count": 0,
      "outputs": []
    },
    {
      "cell_type": "code",
      "metadata": {
        "id": "Zq7w9vF44apo",
        "colab_type": "code",
        "outputId": "21278a01-74eb-4343-86b0-1d1e23f316b6",
        "colab": {
          "base_uri": "https://localhost:8080/",
          "height": 50
        }
      },
      "source": [
        "#Seperate the sentence and label\n",
        "list_train = []\n",
        "for x in  train_data:\n",
        "  list_train.append(x.split(';'))\n",
        "print(list_train[9])\n",
        "len(list_train)\n",
        "\n"
      ],
      "execution_count": 0,
      "outputs": [
        {
          "output_type": "stream",
          "text": [
            "['i was able to help chai lifeline with your support and encouragement is a great feeling and i am so glad you were able to help me', 'joy\\n']\n"
          ],
          "name": "stdout"
        },
        {
          "output_type": "execute_result",
          "data": {
            "text/plain": [
              "15986"
            ]
          },
          "metadata": {
            "tags": []
          },
          "execution_count": 5
        }
      ]
    },
    {
      "cell_type": "markdown",
      "metadata": {
        "id": "pRXg2lr9nTsR",
        "colab_type": "text"
      },
      "source": [
        "Analysing some data."
      ]
    },
    {
      "cell_type": "code",
      "metadata": {
        "id": "dY-O94of4azA",
        "colab_type": "code",
        "outputId": "e955c30c-9dd1-4d43-910b-1ad544b50600",
        "colab": {
          "base_uri": "https://localhost:8080/",
          "height": 692
        }
      },
      "source": [
        "list_train[3:26]"
      ],
      "execution_count": 0,
      "outputs": [
        {
          "output_type": "execute_result",
          "data": {
            "text/plain": [
              "[['i feel pretty pathetic most of the time', 'sadness\\n'],\n",
              " ['i started feeling sentimental about dolls i had as a child and so began a collection of vintage barbie dolls from the sixties',\n",
              "  'sadness\\n'],\n",
              " ['i now feel compromised and skeptical of the value of every unit of work i put in',\n",
              "  'fear\\n'],\n",
              " ['i feel irritated and rejected without anyone doing anything or saying anything',\n",
              "  'anger\\n'],\n",
              " ['i am feeling completely overwhelmed i have two strategies that help me to feel grounded pour my heart out in my journal in the form of a letter to god and then end with a list of five things i am most grateful for',\n",
              "  'fear\\n'],\n",
              " ['i have the feeling she was amused and delighted', 'joy\\n'],\n",
              " ['i was able to help chai lifeline with your support and encouragement is a great feeling and i am so glad you were able to help me',\n",
              "  'joy\\n'],\n",
              " ['i already feel like i fucked up though because i dont usually eat at all in the morning',\n",
              "  'anger\\n'],\n",
              " ['i still love my so and wish the best for him i can no longer tolerate the effect that bm has on our lives and the fact that is has turned my so into a bitter angry person who is not always particularly kind to the people around him when he is feeling stressed',\n",
              "  'sadness\\n'],\n",
              " ['i feel so inhibited in someone elses kitchen like im painting on someone elses picture',\n",
              "  'sadness\\n'],\n",
              " ['i become overwhelmed and feel defeated', 'sadness\\n'],\n",
              " ['i feel kinda appalled that she feels like she needs to explain in wide and lenghth her body measures etc pp',\n",
              "  'anger\\n'],\n",
              " ['i feel more superior dead chicken or grieving child', 'joy\\n'],\n",
              " ['i get giddy over feeling elegant in a perfectly fitted pencil skirt',\n",
              "  'joy\\n'],\n",
              " ['i remember feeling acutely distressed for a few days', 'fear\\n'],\n",
              " ['i have seen heard and read over the past couple of days i am left feeling impressed by more than a few companies',\n",
              "  'surprise\\n'],\n",
              " ['i climbed the hill feeling frustrated that id pretty much paced entirely wrong for this course and that a factor that has never ever hampered me had made such a dent in the day',\n",
              "  'anger\\n'],\n",
              " ['i can t imagine a real life scenario where i would be emotionally connected enough with someone to feel totally accepted and safe where it it morally acceptable for me to have close and prolonged physical contact and where sex won t be expected subsequently',\n",
              "  'joy\\n'],\n",
              " ['i am not sure what would make me feel content if anything', 'joy\\n'],\n",
              " ['i have been feeling the need to be creative', 'joy\\n'],\n",
              " ['i do however want you to know that if something someone is causing you to feel less then your splendid self step away from them',\n",
              "  'joy\\n'],\n",
              " ['i feel a bit rude writing to an elderly gentleman to ask for gifts because i feel a bit greedy but what is christmas about if not mild greed',\n",
              "  'anger\\n'],\n",
              " ['i need you i need someone i need to be protected and feel safe i am small now i find myself in a season of no words',\n",
              "  'joy\\n']]"
            ]
          },
          "metadata": {
            "tags": []
          },
          "execution_count": 7
        }
      ]
    },
    {
      "cell_type": "code",
      "metadata": {
        "id": "OzudgIMi4aox",
        "colab_type": "code",
        "outputId": "47750533-d4e7-4cd9-d930-a537074a994d",
        "colab": {
          "base_uri": "https://localhost:8080/",
          "height": 67
        }
      },
      "source": [
        "#sentence contains the text and labels contain the emotion of text.\n",
        "sentence = []\n",
        "labels = []\n",
        "for a in range(len(list_train)):\n",
        "  sentence.append(list_train[a][0])\n",
        "  labels.append(list_train[a][1])\n",
        "print(len(sentence))\n",
        "print(sentence[180])\n",
        "labels[180]\n"
      ],
      "execution_count": 0,
      "outputs": [
        {
          "output_type": "stream",
          "text": [
            "15986\n",
            "i felt sad when a friend of mine died and i felt that something had irrevocably gone away from me\n"
          ],
          "name": "stdout"
        },
        {
          "output_type": "execute_result",
          "data": {
            "text/plain": [
              "'sadness\\n'"
            ]
          },
          "metadata": {
            "tags": []
          },
          "execution_count": 8
        }
      ]
    },
    {
      "cell_type": "code",
      "metadata": {
        "id": "Jp_msaxF4ahi",
        "colab_type": "code",
        "outputId": "a520531f-dfba-440f-ada5-b65e092eaca9",
        "colab": {
          "base_uri": "https://localhost:8080/",
          "height": 353
        }
      },
      "source": [
        "#cleaning the labels by removinh '\\n'\n",
        "clean_labels = []\n",
        "for e in labels:\n",
        "  clean_labels.append(clean_text(e))\n",
        "clean_labels[:20]\n"
      ],
      "execution_count": 0,
      "outputs": [
        {
          "output_type": "execute_result",
          "data": {
            "text/plain": [
              "['joy',\n",
              " 'joy',\n",
              " 'sadness',\n",
              " 'sadness',\n",
              " 'sadness',\n",
              " 'fear',\n",
              " 'anger',\n",
              " 'fear',\n",
              " 'joy',\n",
              " 'joy',\n",
              " 'anger',\n",
              " 'sadness',\n",
              " 'sadness',\n",
              " 'sadness',\n",
              " 'anger',\n",
              " 'joy',\n",
              " 'joy',\n",
              " 'fear',\n",
              " 'surprise',\n",
              " 'anger']"
            ]
          },
          "metadata": {
            "tags": []
          },
          "execution_count": 10
        }
      ]
    },
    {
      "cell_type": "code",
      "metadata": {
        "id": "JRwf9ZNddb_0",
        "colab_type": "code",
        "colab": {}
      },
      "source": [
        "#convert the list into data frame for better analysis\n",
        "train_df = pd.DataFrame(list(zip(sentence, clean_labels)), \n",
        "               columns =['Sentences', 'emotion']) "
      ],
      "execution_count": 0,
      "outputs": []
    },
    {
      "cell_type": "code",
      "metadata": {
        "id": "95jGSeN6db9L",
        "colab_type": "code",
        "outputId": "19588e62-41ec-475e-ae0b-b4c2eba7b0f0",
        "colab": {
          "base_uri": "https://localhost:8080/",
          "height": 418
        }
      },
      "source": [
        "train_df"
      ],
      "execution_count": 0,
      "outputs": [
        {
          "output_type": "execute_result",
          "data": {
            "text/html": [
              "<div>\n",
              "<style scoped>\n",
              "    .dataframe tbody tr th:only-of-type {\n",
              "        vertical-align: middle;\n",
              "    }\n",
              "\n",
              "    .dataframe tbody tr th {\n",
              "        vertical-align: top;\n",
              "    }\n",
              "\n",
              "    .dataframe thead th {\n",
              "        text-align: right;\n",
              "    }\n",
              "</style>\n",
              "<table border=\"1\" class=\"dataframe\">\n",
              "  <thead>\n",
              "    <tr style=\"text-align: right;\">\n",
              "      <th></th>\n",
              "      <th>Sentences</th>\n",
              "      <th>emotion</th>\n",
              "    </tr>\n",
              "  </thead>\n",
              "  <tbody>\n",
              "    <tr>\n",
              "      <th>0</th>\n",
              "      <td>i have immense sympathy with the general point but as a possible proto writer trying to find time to write in the corners of life and with no sign of an agent let alone a publishing contract this feels a little precious</td>\n",
              "      <td>joy</td>\n",
              "    </tr>\n",
              "    <tr>\n",
              "      <th>1</th>\n",
              "      <td>i do not feel reassured anxiety is on each side</td>\n",
              "      <td>joy</td>\n",
              "    </tr>\n",
              "    <tr>\n",
              "      <th>2</th>\n",
              "      <td>i didnt really feel that embarrassed</td>\n",
              "      <td>sadness</td>\n",
              "    </tr>\n",
              "    <tr>\n",
              "      <th>3</th>\n",
              "      <td>i feel pretty pathetic most of the time</td>\n",
              "      <td>sadness</td>\n",
              "    </tr>\n",
              "    <tr>\n",
              "      <th>4</th>\n",
              "      <td>i started feeling sentimental about dolls i had as a child and so began a collection of vintage barbie dolls from the sixties</td>\n",
              "      <td>sadness</td>\n",
              "    </tr>\n",
              "    <tr>\n",
              "      <th>...</th>\n",
              "      <td>...</td>\n",
              "      <td>...</td>\n",
              "    </tr>\n",
              "    <tr>\n",
              "      <th>15981</th>\n",
              "      <td>i just had a very brief time in the beanbag and i said to anna that i feel like i have been beaten up</td>\n",
              "      <td>sadness</td>\n",
              "    </tr>\n",
              "    <tr>\n",
              "      <th>15982</th>\n",
              "      <td>i am now turning and i feel pathetic that i am still waiting tables and subbing with a teaching degree</td>\n",
              "      <td>sadness</td>\n",
              "    </tr>\n",
              "    <tr>\n",
              "      <th>15983</th>\n",
              "      <td>i feel strong and good overall</td>\n",
              "      <td>joy</td>\n",
              "    </tr>\n",
              "    <tr>\n",
              "      <th>15984</th>\n",
              "      <td>i feel like this was such a rude comment and im glad that t</td>\n",
              "      <td>anger</td>\n",
              "    </tr>\n",
              "    <tr>\n",
              "      <th>15985</th>\n",
              "      <td>i know a lot but i feel so stupid because i can not portray it</td>\n",
              "      <td>sadness</td>\n",
              "    </tr>\n",
              "  </tbody>\n",
              "</table>\n",
              "<p>15986 rows × 2 columns</p>\n",
              "</div>"
            ],
            "text/plain": [
              "                                                                                                                                                                                                                         Sentences  emotion\n",
              "0      i have immense sympathy with the general point but as a possible proto writer trying to find time to write in the corners of life and with no sign of an agent let alone a publishing contract this feels a little precious      joy\n",
              "1                                                                                                                                                                                  i do not feel reassured anxiety is on each side      joy\n",
              "2                                                                                                                                                                                             i didnt really feel that embarrassed  sadness\n",
              "3                                                                                                                                                                                          i feel pretty pathetic most of the time  sadness\n",
              "4                                                                                                    i started feeling sentimental about dolls i had as a child and so began a collection of vintage barbie dolls from the sixties  sadness\n",
              "...                                                                                                                                                                                                                            ...      ...\n",
              "15981                                                                                                                        i just had a very brief time in the beanbag and i said to anna that i feel like i have been beaten up  sadness\n",
              "15982                                                                                                                       i am now turning and i feel pathetic that i am still waiting tables and subbing with a teaching degree  sadness\n",
              "15983                                                                                                                                                                                               i feel strong and good overall      joy\n",
              "15984                                                                                                                                                                  i feel like this was such a rude comment and im glad that t    anger\n",
              "15985                                                                                                                                                               i know a lot but i feel so stupid because i can not portray it  sadness\n",
              "\n",
              "[15986 rows x 2 columns]"
            ]
          },
          "metadata": {
            "tags": []
          },
          "execution_count": 13
        }
      ]
    },
    {
      "cell_type": "code",
      "metadata": {
        "id": "BwnqAUuBgKZF",
        "colab_type": "code",
        "outputId": "85e24d57-2acd-44cc-8a1e-0e6a48fe43f9",
        "colab": {
          "base_uri": "https://localhost:8080/",
          "height": 134
        }
      },
      "source": [
        "#take a look at the value_counts of emotion which are our labels\n",
        "train_df['emotion'].value_counts()"
      ],
      "execution_count": 0,
      "outputs": [
        {
          "output_type": "execute_result",
          "data": {
            "text/plain": [
              "joy         5360\n",
              "sadness     4661\n",
              "anger       2156\n",
              "fear        1936\n",
              "love        1302\n",
              "surprise     571\n",
              "Name: emotion, dtype: int64"
            ]
          },
          "metadata": {
            "tags": []
          },
          "execution_count": 16
        }
      ]
    },
    {
      "cell_type": "markdown",
      "metadata": {
        "id": "mZ3MquvynajX",
        "colab_type": "text"
      },
      "source": [
        "Removing Stopwords"
      ]
    },
    {
      "cell_type": "code",
      "metadata": {
        "id": "WE1RuWyCPI1G",
        "colab_type": "code",
        "outputId": "d1afc222-1f63-49cd-8c13-ab29c38b748e",
        "colab": {
          "base_uri": "https://localhost:8080/",
          "height": 34
        }
      },
      "source": [
        "#An importent step of text processing\n",
        "#removing the unnecessary stopwords\n",
        "!pip install nlppreprocess\n",
        "from nlppreprocess import NLP\n",
        "\n",
        "nlp = NLP()\n",
        "\n",
        "train_df['Sentences_clean'] = train_df['Sentences'].apply(nlp.process)\n",
        "\n"
      ],
      "execution_count": 0,
      "outputs": [
        {
          "output_type": "stream",
          "text": [
            "Requirement already satisfied: nlppreprocess in /usr/local/lib/python3.6/dist-packages (1.0.2)\n"
          ],
          "name": "stdout"
        }
      ]
    },
    {
      "cell_type": "code",
      "metadata": {
        "id": "gJfin_g2Ru_q",
        "colab_type": "code",
        "outputId": "e27b0454-50b8-4add-8083-27a9f0dde0ac",
        "colab": {
          "base_uri": "https://localhost:8080/",
          "height": 486
        }
      },
      "source": [
        "train_df"
      ],
      "execution_count": 0,
      "outputs": [
        {
          "output_type": "execute_result",
          "data": {
            "text/html": [
              "<div>\n",
              "<style scoped>\n",
              "    .dataframe tbody tr th:only-of-type {\n",
              "        vertical-align: middle;\n",
              "    }\n",
              "\n",
              "    .dataframe tbody tr th {\n",
              "        vertical-align: top;\n",
              "    }\n",
              "\n",
              "    .dataframe thead th {\n",
              "        text-align: right;\n",
              "    }\n",
              "</style>\n",
              "<table border=\"1\" class=\"dataframe\">\n",
              "  <thead>\n",
              "    <tr style=\"text-align: right;\">\n",
              "      <th></th>\n",
              "      <th>Sentences</th>\n",
              "      <th>emotion</th>\n",
              "      <th>Sentences_clean</th>\n",
              "    </tr>\n",
              "  </thead>\n",
              "  <tbody>\n",
              "    <tr>\n",
              "      <th>0</th>\n",
              "      <td>i have immense sympathy with the general point but as a possible proto writer trying to find time to write in the corners of life and with no sign of an agent let alone a publishing contract this feels a little precious</td>\n",
              "      <td>joy</td>\n",
              "      <td>immense sympathy with general point but possible proto writer trying find time write in corners life and with no sign agent let alone publishing contract feels little precious</td>\n",
              "    </tr>\n",
              "    <tr>\n",
              "      <th>1</th>\n",
              "      <td>i do not feel reassured anxiety is on each side</td>\n",
              "      <td>joy</td>\n",
              "      <td>not feel reassured anxiety each side</td>\n",
              "    </tr>\n",
              "    <tr>\n",
              "      <th>2</th>\n",
              "      <td>i didnt really feel that embarrassed</td>\n",
              "      <td>sadness</td>\n",
              "      <td>not really feel embarrassed</td>\n",
              "    </tr>\n",
              "    <tr>\n",
              "      <th>3</th>\n",
              "      <td>i feel pretty pathetic most of the time</td>\n",
              "      <td>sadness</td>\n",
              "      <td>feel pretty pathetic most time</td>\n",
              "    </tr>\n",
              "    <tr>\n",
              "      <th>4</th>\n",
              "      <td>i started feeling sentimental about dolls i had as a child and so began a collection of vintage barbie dolls from the sixties</td>\n",
              "      <td>sadness</td>\n",
              "      <td>started feeling sentimental about dolls had child and began collection vintage barbie dolls from sixties</td>\n",
              "    </tr>\n",
              "    <tr>\n",
              "      <th>...</th>\n",
              "      <td>...</td>\n",
              "      <td>...</td>\n",
              "      <td>...</td>\n",
              "    </tr>\n",
              "    <tr>\n",
              "      <th>15981</th>\n",
              "      <td>i just had a very brief time in the beanbag and i said to anna that i feel like i have been beaten up</td>\n",
              "      <td>sadness</td>\n",
              "      <td>just had very brief time in beanbag and said anna feel like been beaten up</td>\n",
              "    </tr>\n",
              "    <tr>\n",
              "      <th>15982</th>\n",
              "      <td>i am now turning and i feel pathetic that i am still waiting tables and subbing with a teaching degree</td>\n",
              "      <td>sadness</td>\n",
              "      <td>am now turning and feel pathetic am still waiting tables and subbing with teaching degree</td>\n",
              "    </tr>\n",
              "    <tr>\n",
              "      <th>15983</th>\n",
              "      <td>i feel strong and good overall</td>\n",
              "      <td>joy</td>\n",
              "      <td>feel strong and good overall</td>\n",
              "    </tr>\n",
              "    <tr>\n",
              "      <th>15984</th>\n",
              "      <td>i feel like this was such a rude comment and im glad that t</td>\n",
              "      <td>anger</td>\n",
              "      <td>feel like such rude comment and im glad t</td>\n",
              "    </tr>\n",
              "    <tr>\n",
              "      <th>15985</th>\n",
              "      <td>i know a lot but i feel so stupid because i can not portray it</td>\n",
              "      <td>sadness</td>\n",
              "      <td>know lot but feel stupid because can not portray</td>\n",
              "    </tr>\n",
              "  </tbody>\n",
              "</table>\n",
              "<p>15986 rows × 3 columns</p>\n",
              "</div>"
            ],
            "text/plain": [
              "                                                                                                                                                                                                                         Sentences  ...                                                                                                                                                                  Sentences_clean\n",
              "0      i have immense sympathy with the general point but as a possible proto writer trying to find time to write in the corners of life and with no sign of an agent let alone a publishing contract this feels a little precious  ...  immense sympathy with general point but possible proto writer trying find time write in corners life and with no sign agent let alone publishing contract feels little precious\n",
              "1                                                                                                                                                                                  i do not feel reassured anxiety is on each side  ...                                                                                                                                             not feel reassured anxiety each side\n",
              "2                                                                                                                                                                                             i didnt really feel that embarrassed  ...                                                                                                                                                      not really feel embarrassed\n",
              "3                                                                                                                                                                                          i feel pretty pathetic most of the time  ...                                                                                                                                                   feel pretty pathetic most time\n",
              "4                                                                                                    i started feeling sentimental about dolls i had as a child and so began a collection of vintage barbie dolls from the sixties  ...                                                                         started feeling sentimental about dolls had child and began collection vintage barbie dolls from sixties\n",
              "...                                                                                                                                                                                                                            ...  ...                                                                                                                                                                              ...\n",
              "15981                                                                                                                        i just had a very brief time in the beanbag and i said to anna that i feel like i have been beaten up  ...                                                                                                       just had very brief time in beanbag and said anna feel like been beaten up\n",
              "15982                                                                                                                       i am now turning and i feel pathetic that i am still waiting tables and subbing with a teaching degree  ...                                                                                        am now turning and feel pathetic am still waiting tables and subbing with teaching degree\n",
              "15983                                                                                                                                                                                               i feel strong and good overall  ...                                                                                                                                                     feel strong and good overall\n",
              "15984                                                                                                                                                                  i feel like this was such a rude comment and im glad that t  ...                                                                                                                                        feel like such rude comment and im glad t\n",
              "15985                                                                                                                                                               i know a lot but i feel so stupid because i can not portray it  ...                                                                                                                                 know lot but feel stupid because can not portray\n",
              "\n",
              "[15986 rows x 3 columns]"
            ]
          },
          "metadata": {
            "tags": []
          },
          "execution_count": 19
        }
      ]
    },
    {
      "cell_type": "markdown",
      "metadata": {
        "id": "0l1-TmAtneWV",
        "colab_type": "text"
      },
      "source": [
        "Lemmatization function.\n",
        "(Generalizing tense of  words, meanings like good, better is the same. "
      ]
    },
    {
      "cell_type": "code",
      "metadata": {
        "id": "YhBzD5ndYF02",
        "colab_type": "code",
        "outputId": "a87e846a-825a-4a9b-930f-53e3351f4454",
        "colab": {
          "base_uri": "https://localhost:8080/",
          "height": 50
        }
      },
      "source": [
        "#import necesaary functions for lemmatization.\n",
        "import nltk\n",
        "from nltk.stem import WordNetLemmatizer \n",
        "nltk.download('wordnet')\n",
        "lemmatizer = WordNetLemmatizer() "
      ],
      "execution_count": 0,
      "outputs": [
        {
          "output_type": "stream",
          "text": [
            "[nltk_data] Downloading package wordnet to /root/nltk_data...\n",
            "[nltk_data]   Package wordnet is already up-to-date!\n"
          ],
          "name": "stdout"
        }
      ]
    },
    {
      "cell_type": "code",
      "metadata": {
        "id": "ve49eAHIgKkz",
        "colab_type": "code",
        "colab": {}
      },
      "source": [
        "import numpy as np\n",
        "import tensorflow as tf\n",
        "from tensorflow import keras\n",
        "from tensorflow.keras import layers\n",
        "from tensorflow.keras.preprocessing.text import Tokenizer\n",
        "from tensorflow.keras.preprocessing.sequence import pad_sequences\n"
      ],
      "execution_count": 0,
      "outputs": []
    },
    {
      "cell_type": "code",
      "metadata": {
        "id": "MWi5LyZPgKiU",
        "colab_type": "code",
        "outputId": "6990175b-9acb-4890-d7f6-0034498142d5",
        "colab": {
          "base_uri": "https://localhost:8080/",
          "height": 50
        }
      },
      "source": [
        "#toxenising the sentences to numbers and then padding the text to size of max len text.\n",
        "sentences_list=[]\n",
        "labels_list =[]\n",
        "\n",
        "for i in range(len(train_df.emotion)):\n",
        "\n",
        "# lemmatize to cluster similar words like good, better into one word 'good', generalize tense as it doesn't have much impact on sentiment.\n",
        "    sentences_list.append(lemmatizer.lemmatize(train_df['Sentences_clean'][i]))\n",
        "    labels_list.append(train_df.emotion[i])\n",
        "\n",
        "\n",
        "print(sentences_list[1000])\n",
        "print(labels_list[1000])"
      ],
      "execution_count": 0,
      "outputs": [
        {
          "output_type": "stream",
          "text": [
            "cant help feeling mad man\n",
            "anger\n"
          ],
          "name": "stdout"
        }
      ]
    },
    {
      "cell_type": "markdown",
      "metadata": {
        "id": "cm7Ri2ikn1Dw",
        "colab_type": "text"
      },
      "source": [
        "Tokenization and convert word2vec"
      ]
    },
    {
      "cell_type": "code",
      "metadata": {
        "id": "JeBbRSd1YKVZ",
        "colab_type": "code",
        "outputId": "2ba097a7-e2b1-468c-bf02-f2934d91f031",
        "colab": {
          "base_uri": "https://localhost:8080/",
          "height": 67
        }
      },
      "source": [
        "#toxenising the sentences to numbers and then padding the text to size of max len text.\n",
        "tokenizer = Tokenizer(num_words = 20000, oov_token= 'OOV')\n",
        "tokenizer.fit_on_texts(sentences_list)\n",
        "\n",
        "\n",
        "\n",
        "train_sequences = tokenizer.texts_to_sequences(sentences_list)\n",
        "train_padded = pad_sequences(train_sequences, maxlen=30, padding= 'post', truncating='post')\n",
        "\n",
        "\n",
        "train_padded[1000]\n"
      ],
      "execution_count": 0,
      "outputs": [
        {
          "output_type": "execute_result",
          "data": {
            "text/plain": [
              "array([ 99, 106,   4, 381, 337,   0,   0,   0,   0,   0,   0,   0,   0,\n",
              "         0,   0,   0,   0,   0,   0,   0,   0,   0,   0,   0,   0,   0,\n",
              "         0,   0,   0,   0], dtype=int32)"
            ]
          },
          "metadata": {
            "tags": []
          },
          "execution_count": 48
        }
      ]
    },
    {
      "cell_type": "code",
      "metadata": {
        "id": "L0-KwgdrB4pd",
        "colab_type": "code",
        "outputId": "44e6fb98-fc71-4d2f-af43-f4c06c7be19e",
        "colab": {
          "base_uri": "https://localhost:8080/",
          "height": 50
        }
      },
      "source": [
        "#converting the emotion labels into numbers.\n",
        "dic = {'joy':0, 'anger': 1, 'love':2, 'fear':3, 'surprise':4, 'sadness' :5}\n",
        "\n",
        "labels_list_to_num = [dic.get(n, n) for n in labels_list]\n",
        "\n",
        "labels_list_to_num[:10]"
      ],
      "execution_count": 0,
      "outputs": [
        {
          "output_type": "stream",
          "text": [
            "[5, 5, 2, 1, 0, 0, 0, 0, 0, 5]\n"
          ],
          "name": "stdout"
        },
        {
          "output_type": "execute_result",
          "data": {
            "text/plain": [
              "[0, 0, 5, 5, 5, 3, 1, 3, 0, 0]"
            ]
          },
          "metadata": {
            "tags": []
          },
          "execution_count": 28
        }
      ]
    },
    {
      "cell_type": "code",
      "metadata": {
        "id": "CxjOJAi2pmuy",
        "colab_type": "code",
        "outputId": "75d1aaa6-b710-44b0-beea-f2337b6d9684",
        "colab": {
          "base_uri": "https://localhost:8080/",
          "height": 34
        }
      },
      "source": [
        "#required modules.\n",
        "import tensorflow as tf\n",
        "import keras\n",
        "import random\n",
        "import numpy as np\n",
        "from tensorflow.keras.utils import to_categorical\n",
        "from tensorflow.keras import regularizers\n",
        "from tensorflow.keras.layers import Embedding, LSTM, Dense, Dropout, Bidirectional\n",
        "from tensorflow.keras.models import Sequential\n",
        "from tensorflow.keras.optimizers import Adam\n",
        "\n"
      ],
      "execution_count": 0,
      "outputs": [
        {
          "output_type": "stream",
          "text": [
            "Using TensorFlow backend.\n"
          ],
          "name": "stderr"
        }
      ]
    },
    {
      "cell_type": "markdown",
      "metadata": {
        "id": "Xy5BJgXtn6Xk",
        "colab_type": "text"
      },
      "source": [
        "Our Neural Network"
      ]
    },
    {
      "cell_type": "code",
      "metadata": {
        "id": "BhDXsgD4gKUa",
        "colab_type": "code",
        "colab": {}
      },
      "source": [
        "vocab_size = 30000\n",
        "embedding_dim = 128\n",
        "\n",
        "\n",
        "#our main model.\n",
        "model = Sequential()\n",
        "model.add(Embedding(vocab_size+1, embedding_dim, input_length=30))\n",
        "model.add(Bidirectional(LSTM(120, return_sequences= True)))\n",
        "model.add(Bidirectional(LSTM(120)))\n",
        "model.add(Dense(32, activation='relu'))\n",
        "model.add(Dropout(0.5))\n",
        "model.add(Dense(6, activation='softmax'))\n",
        "\n"
      ],
      "execution_count": 0,
      "outputs": []
    },
    {
      "cell_type": "code",
      "metadata": {
        "id": "4s5BU5UbtkOi",
        "colab_type": "code",
        "outputId": "8975a0dd-af1e-4db4-b025-3e6926e9bc96",
        "colab": {
          "base_uri": "https://localhost:8080/",
          "height": 319
        }
      },
      "source": [
        "#summary\n",
        "model.summary()"
      ],
      "execution_count": 0,
      "outputs": [
        {
          "output_type": "stream",
          "text": [
            "Model: \"sequential\"\n",
            "_________________________________________________________________\n",
            "Layer (type)                 Output Shape              Param #   \n",
            "=================================================================\n",
            "embedding (Embedding)        (None, 30, 128)           3840000   \n",
            "_________________________________________________________________\n",
            "bidirectional (Bidirectional (None, 128)               98816     \n",
            "_________________________________________________________________\n",
            "dense (Dense)                (None, 32)                4128      \n",
            "_________________________________________________________________\n",
            "dropout (Dropout)            (None, 32)                0         \n",
            "_________________________________________________________________\n",
            "dense_1 (Dense)              (None, 6)                 198       \n",
            "=================================================================\n",
            "Total params: 3,943,142\n",
            "Trainable params: 3,943,142\n",
            "Non-trainable params: 0\n",
            "_________________________________________________________________\n"
          ],
          "name": "stdout"
        }
      ]
    },
    {
      "cell_type": "code",
      "metadata": {
        "id": "vssMHaLztkNR",
        "colab_type": "code",
        "colab": {}
      },
      "source": [
        "#compile\n",
        "model.compile(optimizer='adam', loss=tf.keras.losses.CategoricalCrossentropy(), metrics = ['accuracy'])\n"
      ],
      "execution_count": 0,
      "outputs": []
    },
    {
      "cell_type": "markdown",
      "metadata": {
        "id": "yR44hnW5n_B3",
        "colab_type": "text"
      },
      "source": [
        "One-Hot encoding"
      ]
    },
    {
      "cell_type": "code",
      "metadata": {
        "id": "Pgyk_r4ygi25",
        "colab_type": "code",
        "colab": {}
      },
      "source": [
        "#One hot encoding the vectors to fit in the model.\n",
        "from keras.utils.np_utils import to_categorical   \n",
        "\n",
        "categorical_labels = to_categorical(np.array(labels_list_to_num), num_classes=6)"
      ],
      "execution_count": 0,
      "outputs": []
    },
    {
      "cell_type": "markdown",
      "metadata": {
        "id": "Jo1LG1MkoEit",
        "colab_type": "text"
      },
      "source": [
        "Training"
      ]
    },
    {
      "cell_type": "code",
      "metadata": {
        "id": "cjEIeXgqtkMM",
        "colab_type": "code",
        "outputId": "378b97ce-f1d1-48a2-bce1-641c3dc94969",
        "colab": {
          "base_uri": "https://localhost:8080/",
          "height": 521
        }
      },
      "source": [
        "#train \n",
        "history = model.fit(train_padded, categorical_labels,validation_data = (val_padded, categorical_labels_val) epochs=15)"
      ],
      "execution_count": 0,
      "outputs": [
        {
          "output_type": "stream",
          "text": [
            "Epoch 1/15\n",
            "500/500 [==============================] - 40s 80ms/step - loss: 1.1944 - accuracy: 0.5368\n",
            "Epoch 2/15\n",
            "500/500 [==============================] - 39s 78ms/step - loss: 0.3970 - accuracy: 0.8787\n",
            "Epoch 3/15\n",
            "500/500 [==============================] - 39s 77ms/step - loss: 0.1995 - accuracy: 0.9362\n",
            "Epoch 4/15\n",
            "500/500 [==============================] - 39s 77ms/step - loss: 0.1300 - accuracy: 0.9605\n",
            "Epoch 5/15\n",
            "500/500 [==============================] - 39s 78ms/step - loss: 0.0991 - accuracy: 0.9705\n",
            "Epoch 6/15\n",
            "500/500 [==============================] - 39s 77ms/step - loss: 0.0823 - accuracy: 0.9745\n",
            "Epoch 7/15\n",
            "500/500 [==============================] - 38s 77ms/step - loss: 0.0719 - accuracy: 0.9783\n",
            "Epoch 8/15\n",
            "500/500 [==============================] - 39s 77ms/step - loss: 0.0674 - accuracy: 0.9802\n",
            "Epoch 9/15\n",
            "500/500 [==============================] - 38s 77ms/step - loss: 0.0527 - accuracy: 0.9827\n",
            "Epoch 10/15\n",
            "500/500 [==============================] - 38s 76ms/step - loss: 0.0521 - accuracy: 0.9852\n",
            "Epoch 11/15\n",
            "500/500 [==============================] - 38s 77ms/step - loss: 0.0482 - accuracy: 0.9857\n",
            "Epoch 12/15\n",
            "500/500 [==============================] - 38s 77ms/step - loss: 0.0445 - accuracy: 0.9861\n",
            "Epoch 13/15\n",
            "500/500 [==============================] - 38s 77ms/step - loss: 0.0362 - accuracy: 0.9876\n",
            "Epoch 14/15\n",
            "500/500 [==============================] - 38s 76ms/step - loss: 0.0369 - accuracy: 0.9886\n",
            "Epoch 15/15\n",
            "500/500 [==============================] - 38s 77ms/step - loss: 0.0326 - accuracy: 0.9887\n"
          ],
          "name": "stdout"
        }
      ]
    },
    {
      "cell_type": "markdown",
      "metadata": {
        "id": "IVbktWR1oHO0",
        "colab_type": "text"
      },
      "source": [
        "Plot acuracy and loss"
      ]
    },
    {
      "cell_type": "code",
      "metadata": {
        "id": "MostwR12_Vrm",
        "colab_type": "code",
        "outputId": "34136da1-359a-443e-97bc-e7188292ad96",
        "colab": {
          "base_uri": "https://localhost:8080/",
          "height": 541
        }
      },
      "source": [
        "#we got a pretty good accurcay\n",
        "import matplotlib.pyplot as plt\n",
        "def plot_graphs(history, string):\n",
        "  plt.plot(history.history[string])\n",
        "  \n",
        "  plt.xlabel(\"Epochs\")\n",
        "  plt.ylabel(string)\n",
        "  plt.legend([string])\n",
        "  plt.show()\n",
        "  \n",
        "plot_graphs(history, \"accuracy\")\n",
        "plot_graphs(history, \"loss\")\n",
        "#a smooth graph which is a good indication.\n"
      ],
      "execution_count": 0,
      "outputs": [
        {
          "output_type": "display_data",
          "data": {
            "image/png": "[encoded data removed]",
            "text/plain": [
              "<Figure size 432x288 with 1 Axes>"
            ]
          },
          "metadata": {
            "tags": [],
            "needs_background": "light"
          }
        },
        {
          "output_type": "display_data",
          "data": {
            "image/png": "[encoded data removed]",
            "text/plain": [
              "<Figure size 432x288 with 1 Axes>"
            ]
          },
          "metadata": {
            "tags": [],
            "needs_background": "light"
          }
        }
      ]
    },
    {
      "cell_type": "code",
      "metadata": {
        "id": "SHdpzHStG-D_",
        "colab_type": "code",
        "colab": {}
      },
      "source": [
        "#save the model for further use\n",
        "model.save(\"model.h5\")"
      ],
      "execution_count": 0,
      "outputs": []
    },
    {
      "cell_type": "code",
      "metadata": {
        "id": "D-dyTo1xHVNK",
        "colab_type": "code",
        "colab": {}
      },
      "source": [
        "from numpy import loadtxt\n",
        "from keras.models import load_model\n",
        " \n",
        "# load model\n",
        "model = tf.keras.models.load_model('model.h5')"
      ],
      "execution_count": 0,
      "outputs": []
    },
    {
      "cell_type": "markdown",
      "metadata": {
        "id": "Cv_ncp-poLzM",
        "colab_type": "text"
      },
      "source": [
        "A Python library for scraping tweets"
      ]
    },
    {
      "cell_type": "code",
      "metadata": {
        "id": "yx24Gb-w_Vgm",
        "colab_type": "code",
        "outputId": "00a0ae48-5c58-447e-9b02-860ff90d1a6a",
        "colab": {
          "base_uri": "https://localhost:8080/",
          "height": 406
        }
      },
      "source": [
        "#install twitter_scraper\n",
        "!pip install twitter_scraper"
      ],
      "execution_count": 0,
      "outputs": [
        {
          "output_type": "stream",
          "text": [
            "Requirement already satisfied: twitter_scraper in /usr/local/lib/python3.6/dist-packages (0.4.2)\n",
            "Requirement already satisfied: MechanicalSoup in /usr/local/lib/python3.6/dist-packages (from twitter_scraper) (0.12.0)\n",
            "Requirement already satisfied: requests-html in /usr/local/lib/python3.6/dist-packages (from twitter_scraper) (0.10.0)\n",
            "Requirement already satisfied: lxml in /usr/local/lib/python3.6/dist-packages (from MechanicalSoup->twitter_scraper) (4.2.6)\n",
            "Requirement already satisfied: beautifulsoup4>=4.4 in /usr/local/lib/python3.6/dist-packages (from MechanicalSoup->twitter_scraper) (4.6.3)\n",
            "Requirement already satisfied: requests>=2.0 in /usr/local/lib/python3.6/dist-packages (from MechanicalSoup->twitter_scraper) (2.23.0)\n",
            "Requirement already satisfied: six>=1.4 in /usr/local/lib/python3.6/dist-packages (from MechanicalSoup->twitter_scraper) (1.12.0)\n",
            "Requirement already satisfied: bs4 in /usr/local/lib/python3.6/dist-packages (from requests-html->twitter_scraper) (0.0.1)\n",
            "Requirement already satisfied: pyppeteer>=0.0.14 in /usr/local/lib/python3.6/dist-packages (from requests-html->twitter_scraper) (0.2.2)\n",
            "Requirement already satisfied: pyquery in /usr/local/lib/python3.6/dist-packages (from requests-html->twitter_scraper) (1.4.1)\n",
            "Requirement already satisfied: fake-useragent in /usr/local/lib/python3.6/dist-packages (from requests-html->twitter_scraper) (0.1.11)\n",
            "Requirement already satisfied: w3lib in /usr/local/lib/python3.6/dist-packages (from requests-html->twitter_scraper) (1.22.0)\n",
            "Requirement already satisfied: parse in /usr/local/lib/python3.6/dist-packages (from requests-html->twitter_scraper) (1.15.0)\n",
            "Requirement already satisfied: certifi>=2017.4.17 in /usr/local/lib/python3.6/dist-packages (from requests>=2.0->MechanicalSoup->twitter_scraper) (2020.4.5.1)\n",
            "Requirement already satisfied: urllib3!=1.25.0,!=1.25.1,<1.26,>=1.21.1 in /usr/local/lib/python3.6/dist-packages (from requests>=2.0->MechanicalSoup->twitter_scraper) (1.25.9)\n",
            "Requirement already satisfied: idna<3,>=2.5 in /usr/local/lib/python3.6/dist-packages (from requests>=2.0->MechanicalSoup->twitter_scraper) (2.9)\n",
            "Requirement already satisfied: chardet<4,>=3.0.2 in /usr/local/lib/python3.6/dist-packages (from requests>=2.0->MechanicalSoup->twitter_scraper) (3.0.4)\n",
            "Requirement already satisfied: appdirs<2.0.0,>=1.4.3 in /usr/local/lib/python3.6/dist-packages (from pyppeteer>=0.0.14->requests-html->twitter_scraper) (1.4.4)\n",
            "Requirement already satisfied: websockets<9.0,>=8.1 in /usr/local/lib/python3.6/dist-packages (from pyppeteer>=0.0.14->requests-html->twitter_scraper) (8.1)\n",
            "Requirement already satisfied: pyee<8.0.0,>=7.0.1 in /usr/local/lib/python3.6/dist-packages (from pyppeteer>=0.0.14->requests-html->twitter_scraper) (7.0.2)\n",
            "Requirement already satisfied: tqdm<5.0.0,>=4.42.1 in /usr/local/lib/python3.6/dist-packages (from pyppeteer>=0.0.14->requests-html->twitter_scraper) (4.46.1)\n",
            "Requirement already satisfied: cssselect>0.7.9 in /usr/local/lib/python3.6/dist-packages (from pyquery->requests-html->twitter_scraper) (1.1.0)\n"
          ],
          "name": "stdout"
        }
      ]
    },
    {
      "cell_type": "markdown",
      "metadata": {
        "id": "Zoeb3SDxjgAc",
        "colab_type": "text"
      },
      "source": [
        "."
      ]
    },
    {
      "cell_type": "markdown",
      "metadata": {
        "id": "HbW62tq1Y-Ff",
        "colab_type": "text"
      },
      "source": [
        "Scraping recent tweets of \n",
        "1. Twitter CEO Jack.\n",
        "2. My twitter friend who is also a software dev."
      ]
    },
    {
      "cell_type": "markdown",
      "metadata": {
        "id": "VboOnwvXovC0",
        "colab_type": "text"
      },
      "source": [
        "Scrape tweets"
      ]
    },
    {
      "cell_type": "code",
      "metadata": {
        "id": "pFiZdm4W_VZj",
        "colab_type": "code",
        "colab": {}
      },
      "source": [
        "from twitter_scraper import get_tweets\n",
        "test_list_jack = []\n",
        "clean_test_list = []\n",
        "\n",
        "#scraping some of jack's tweets\n",
        "for tweet in get_tweets('jack', 5):\n",
        "       #list oh his recent tweets.\n",
        "       test_list_jack.append(tweet['text'])\n",
        "\n",
        "       #clean and then lemmatize text.\n",
        "       clean_test_list.append(lemmatizer.lemmatize(clean_text(tweet['text'].replace(\"\\n\",\" \").strip())))"
      ],
      "execution_count": 0,
      "outputs": []
    },
    {
      "cell_type": "markdown",
      "metadata": {
        "id": "3PVv4fT7oyD2",
        "colab_type": "text"
      },
      "source": [
        "Tokenization"
      ]
    },
    {
      "cell_type": "code",
      "metadata": {
        "id": "MQ4sq3l4hEAi",
        "colab_type": "code",
        "colab": {}
      },
      "source": [
        "#toxenising the sentences to numbers and then padding the text to size of max len text.\n",
        "\n",
        "tokenizer.fit_on_texts(clean_test_list)\n",
        "test_sequences = tokenizer.texts_to_sequences(clean_test_list)\n",
        "test_padded = pad_sequences(test_sequences, maxlen=0, padding= 'post', truncating='post')\n",
        "\n"
      ],
      "execution_count": 0,
      "outputs": []
    },
    {
      "cell_type": "code",
      "metadata": {
        "id": "4ntO_23ehEEU",
        "colab_type": "code",
        "outputId": "6cbbd980-fc9c-4cad-b1c9-f0c507c1127b",
        "colab": {
          "base_uri": "https://localhost:8080/",
          "height": 50
        }
      },
      "source": [
        "model.predict(test_padded[:1]).reshape(6,)"
      ],
      "execution_count": 0,
      "outputs": [
        {
          "output_type": "execute_result",
          "data": {
            "text/plain": [
              "array([1.3218161e-03, 2.1304597e-05, 1.8384169e-08, 2.3171432e-04,\n",
              "       2.4319220e-09, 9.9842513e-01], dtype=float32)"
            ]
          },
          "metadata": {
            "tags": []
          },
          "execution_count": 98
        }
      ]
    },
    {
      "cell_type": "code",
      "metadata": {
        "id": "0FV_u-3U1Ese",
        "colab_type": "code",
        "outputId": "2dd58d04-2550-4345-c38a-df3ece40d2f1",
        "colab": {
          "base_uri": "https://localhost:8080/",
          "height": 222
        }
      },
      "source": [
        "#take a look at  his latest tweets\n",
        "test_list[0:11]"
      ],
      "execution_count": 0,
      "outputs": [
        {
          "output_type": "execute_result",
          "data": {
            "text/plain": [
              "['I’m moving $1B of my Square equity (~28% of my wealth) to #startsmall LLC to fund global COVID-19 relief. After we disarm this pandemic, the focus will shift to girl’s health and education, and UBI. It will operate transparently, all flows tracked here: https://docs.google.com/spreadsheets/d/1-eGxq2mMoEGwgSpNVL5j2sa6ToojZUZ-Zun8h2oBAR4\\xa0…',\n",
              " \"SAY COLIN'S NAME https://twitter.com/NFL/status/1269034074552721408\\xa0…\",\n",
              " 'This is what #BlackLivesMatter plaza looks like from above. #blm #georgefloyd #WashingtonDC pic.twitter.com/jjCSJR2c3i',\n",
              " 'Not true and not illegal.\\n\\nThis was pulled because we got a DMCA complaint from copyright holder. https://twitter.com/realdonaldtrump/status/1269071790015471621\\xa0…',\n",
              " '#BlackLivesMatter pic.twitter.com/OQg6977n5r',\n",
              " 'The East Oakland Collective is working for justice through organizing community power and supporting the unhoused. Support them at $EastOakCollective. \\n\\nWe’ve given $50,000 today and will match payments sent to their $cashtag. \\nhttp://www.eastoaklandcollective.com\\xa0\\nhttps://twitter.com/CashApp/status/1268938419251613696?s=20\\xa0… pic.twitter.com/FPBcOEVYGg',\n",
              " 'I co-founded @reddit 15 years ago to help people find community and a sense of belonging.\\n\\n\\nIt is long overdue to do the right thing. I’m doing this for me, for my family, and for my country.',\n",
              " 'Want to help us work on end-to-end encrypted group video calling functionality that will be free for everyone? Zoom on over to our careers page: https://signal.org/workworkwork/\\xa0',\n",
              " 'Moment of silence at 12:45. @NAACP #JusticeForGeorge pic.twitter.com/gKecpwPhte',\n",
              " \"Good. Now let's get those arrests. https://twitter.com/JulianStephen/status/1268568671426940929\\xa0…\",\n",
              " 'Protesting & COVID-19 Prevention: A Holistic Guide for Safe Activism During a Pandemic // A resource toolkit for protecting yourself and your community while protesting. Stay safe and stay healthy! #protest #peaceful #blacklivesmatter pic.twitter.com/ZmS7gMaAjm']"
            ]
          },
          "metadata": {
            "tags": []
          },
          "execution_count": 100
        }
      ]
    },
    {
      "cell_type": "markdown",
      "metadata": {
        "id": "TVQySRIUo3A1",
        "colab_type": "text"
      },
      "source": [
        "Function to decode the one-hot encoded vectors that we will get as the prediction."
      ]
    },
    {
      "cell_type": "code",
      "metadata": {
        "id": "I2XOGQ4nhD_N",
        "colab_type": "code",
        "colab": {}
      },
      "source": [
        "#function to decoding the predictions.\n",
        "def decode(datum):\n",
        "    return np.argmax(datum)\n"
      ],
      "execution_count": 0,
      "outputs": []
    },
    {
      "cell_type": "code",
      "metadata": {
        "id": "EDXs94_dPAZ1",
        "colab_type": "code",
        "colab": {}
      },
      "source": [
        "#decoding the predictions.\n",
        "jack_list = []\n",
        "for i in range(1,11):\n",
        "\n",
        "#predicting the sentiment of tweets and decoding the predictions simultaneously.\n",
        "  jack_list.append(decode(model.predict(test_padded[i-1:i]).reshape(6,)))"
      ],
      "execution_count": 0,
      "outputs": []
    },
    {
      "cell_type": "markdown",
      "metadata": {
        "id": "0IWOz9V2pJ4P",
        "colab_type": "text"
      },
      "source": [
        "Converting th number output to labels that we specified earlier.\n",
        "\n",
        "\n"
      ]
    },
    {
      "cell_type": "code",
      "metadata": {
        "id": "ppj5ns0fVKNc",
        "colab_type": "code",
        "outputId": "740b6f9b-247a-4b95-a178-cc6f0cbea3b4",
        "colab": {
          "base_uri": "https://localhost:8080/",
          "height": 185
        }
      },
      "source": [
        "#converting the nums to emotion labels.\n",
        "dic = {0 : 'joy', 1:'anger', 2:'love', 3:'fear', 4:'surprise', 5 :'sadness'}\n",
        "\n",
        "num_to_emotion_jack = [dic.get(n, n) for n in jack_list]\n",
        "num_to_emotion_jack"
      ],
      "execution_count": 0,
      "outputs": [
        {
          "output_type": "execute_result",
          "data": {
            "text/plain": [
              "['sadness',\n",
              " 'love',\n",
              " 'joy',\n",
              " 'joy',\n",
              " 'fear',\n",
              " 'fear',\n",
              " 'sadness',\n",
              " 'joy',\n",
              " 'joy',\n",
              " 'love']"
            ]
          },
          "metadata": {
            "tags": []
          },
          "execution_count": 108
        }
      ]
    },
    {
      "cell_type": "markdown",
      "metadata": {
        "id": "6Yh857Awak0S",
        "colab_type": "text"
      },
      "source": [
        "the above predictions which consist mostly od sadness and fear by my model clearly show the distress going on in thw world because of racial inequality."
      ]
    },
    {
      "cell_type": "markdown",
      "metadata": {
        "id": "uPhJFBENdngC",
        "colab_type": "text"
      },
      "source": [
        "."
      ]
    },
    {
      "cell_type": "markdown",
      "metadata": {
        "id": "6ThrZ5jMakjO",
        "colab_type": "text"
      },
      "source": [
        "Below are those actual tweets that got the above predictions by my neural network."
      ]
    },
    {
      "cell_type": "code",
      "metadata": {
        "id": "J3RWSXyL1F_8",
        "colab_type": "code",
        "outputId": "12b4fd80-7f14-451e-e4e3-ebe6bfbd020e",
        "colab": {
          "base_uri": "https://localhost:8080/",
          "height": 205
        }
      },
      "source": [
        "test_list_jack[:10]"
      ],
      "execution_count": 0,
      "outputs": [
        {
          "output_type": "execute_result",
          "data": {
            "text/plain": [
              "['I’m moving $1B of my Square equity (~28% of my wealth) to #startsmall LLC to fund global COVID-19 relief. After we disarm this pandemic, the focus will shift to girl’s health and education, and UBI. It will operate transparently, all flows tracked here: https://docs.google.com/spreadsheets/d/1-eGxq2mMoEGwgSpNVL5j2sa6ToojZUZ-Zun8h2oBAR4\\xa0…',\n",
              " \"SAY COLIN'S NAME https://twitter.com/NFL/status/1269034074552721408\\xa0…\",\n",
              " 'This is what #BlackLivesMatter plaza looks like from above. #blm #georgefloyd #WashingtonDC pic.twitter.com/jjCSJR2c3i',\n",
              " 'Not true and not illegal.\\n\\nThis was pulled because we got a DMCA complaint from copyright holder. https://twitter.com/realdonaldtrump/status/1269071790015471621\\xa0…',\n",
              " '#BlackLivesMatter pic.twitter.com/OQg6977n5r',\n",
              " 'The East Oakland Collective is working for justice through organizing community power and supporting the unhoused. Support them at $EastOakCollective. \\n\\nWe’ve given $50,000 today and will match payments sent to their $cashtag. \\nhttp://www.eastoaklandcollective.com\\xa0\\nhttps://twitter.com/CashApp/status/1268938419251613696?s=20\\xa0… pic.twitter.com/FPBcOEVYGg',\n",
              " 'I co-founded @reddit 15 years ago to help people find community and a sense of belonging.\\n\\n\\nIt is long overdue to do the right thing. I’m doing this for me, for my family, and for my country.',\n",
              " 'Want to help us work on end-to-end encrypted group video calling functionality that will be free for everyone? Zoom on over to our careers page: https://signal.org/workworkwork/\\xa0',\n",
              " 'Moment of silence at 12:45. @NAACP #JusticeForGeorge pic.twitter.com/gKecpwPhte',\n",
              " \"Good. Now let's get those arrests. https://twitter.com/JulianStephen/status/1268568671426940929\\xa0…\"]"
            ]
          },
          "metadata": {
            "tags": []
          },
          "execution_count": 110
        }
      ]
    },
    {
      "cell_type": "markdown",
      "metadata": {
        "id": "faafYeg-eIS7",
        "colab_type": "text"
      },
      "source": [
        "."
      ]
    },
    {
      "cell_type": "markdown",
      "metadata": {
        "id": "Wt-Uz9fvjVqd",
        "colab_type": "text"
      },
      "source": [
        "."
      ]
    },
    {
      "cell_type": "markdown",
      "metadata": {
        "id": "CsSGOWbweIPj",
        "colab_type": "text"
      },
      "source": [
        "Same procedure.\n",
        "\n",
        "Scraping tweets of my friend Jenny."
      ]
    },
    {
      "cell_type": "code",
      "metadata": {
        "id": "Ryfj9_u9Qp9M",
        "colab_type": "code",
        "colab": {}
      },
      "source": [
        "test_list_jennypotts = []\n",
        "clean_test_list2 = []\n",
        "for tweet in get_tweets('jennypotts'):\n",
        "       test_list_jennypotts.append(tweet['text'])\n",
        "       clean_test_list2.append(lemmatizer.lemmatize(clean_text(tweet['text'].replace(\"\\n\",\" \").strip())))"
      ],
      "execution_count": 0,
      "outputs": []
    },
    {
      "cell_type": "code",
      "metadata": {
        "id": "MoZ3pvHbREWJ",
        "colab_type": "code",
        "outputId": "ccc273ec-7804-42cd-86f2-6ad99c22c49d",
        "colab": {
          "base_uri": "https://localhost:8080/",
          "height": 205
        }
      },
      "source": [
        "#here also  most of her tweets are related to  #BlacklivesMatter  Movement.\n",
        "#Now lets predict the sentiment of her tweets.\n",
        "test_list_jennypotts[1:11]"
      ],
      "execution_count": 0,
      "outputs": [
        {
          "output_type": "execute_result",
          "data": {
            "text/plain": [
              "['Seeing the immense size of the protest was amazing because so many people support #BLM; but also terrifying as these protests might be the cause of a second wave of #Covid19. pic.twitter.com/0ryYAMWTse',\n",
              " \"We went for a walk through the park and #Cardiff has come out in full force to support the #BLM movement. Imagine how big it would have been without #Covid19. \\n\\nThe lack of social distancing was worrying, which is why I didn't join in. pic.twitter.com/sfx0ear0Bo\",\n",
              " \"There is a BLM peaceful protest happening in my local park right now and I feel torn because I don't think it's safe to be there due to covid19 but I do support the cause.\",\n",
              " \"I'm really struggling to concentrate with everything going on. I don't feel comfortable switching off from everything and going back into my bubble.\\n\\nThere's a time to hide, and it is not now.\",\n",
              " 'I feel that this is relevant to bring back up. Our histories are all intertwined so we must all band together to fight for change. https://twitter.com/jennypotts/status/1256328102034071552\\xa0…',\n",
              " \"Next door have a new patio. Doggo looks so innocent trying to convince me that isn't his pee. pic.twitter.com/voy8klj6D1\",\n",
              " 'No comic con this year pic.twitter.com/r6JuabPQGd',\n",
              " 'This my friends gets you blocked by me. pic.twitter.com/nu2WCrPeAW',\n",
              " 'You can help by donating to @WaterAidUK or your local @wateraid https://www.wateraid.org/\\xa0',\n",
              " \"I feel that the lack of access to clean water in Africa needs to be raised for #BLM.  One-third of the population of Earth do not have access to clean water- this kills. \\n\\nI can't help but feel like some people would care more if these people were white.\\n\\nhttps://ourworldindata.org/water-access#unsafe-water-is-a-leading-risk-factor-for-death\\xa0… pic.twitter.com/KNYZDZGrHu\"]"
            ]
          },
          "metadata": {
            "tags": []
          },
          "execution_count": 123
        }
      ]
    },
    {
      "cell_type": "code",
      "metadata": {
        "id": "7w_26iGoRESD",
        "colab_type": "code",
        "colab": {}
      },
      "source": [
        "#toxenising the sentences to numbers and then padding the text to size of max len text.\n",
        "\n",
        "tokenizer.fit_on_texts(clean_test_list2)\n",
        "test_sequences = tokenizer.texts_to_sequences(clean_test_list2)\n",
        "test_padded2 = pad_sequences(test_sequences, maxlen=30, padding= 'post', truncating='post')"
      ],
      "execution_count": 0,
      "outputs": []
    },
    {
      "cell_type": "code",
      "metadata": {
        "id": "Eu6kn_ZdSBjr",
        "colab_type": "code",
        "colab": {}
      },
      "source": [
        "jennypotts_list = []\n",
        "for i in range(2,12):\n",
        " jennypotts_list.append(decode(model.predict(test_padded2[i-1:i]).reshape(6,)))"
      ],
      "execution_count": 0,
      "outputs": []
    },
    {
      "cell_type": "code",
      "metadata": {
        "id": "LGD5ppFPSHzo",
        "colab_type": "code",
        "outputId": "3990dc04-cbe9-4fb8-bbf0-b77549b94486",
        "colab": {
          "base_uri": "https://localhost:8080/",
          "height": 185
        }
      },
      "source": [
        "num_to_emotion_jennypotts = [dic.get(n, n) for n in jennypotts_list]\n",
        "num_to_emotion_jennypotts"
      ],
      "execution_count": 0,
      "outputs": [
        {
          "output_type": "execute_result",
          "data": {
            "text/plain": [
              "['fear',\n",
              " 'joy',\n",
              " 'sadness',\n",
              " 'love',\n",
              " 'fear',\n",
              " 'sadness',\n",
              " 'joy',\n",
              " 'sadness',\n",
              " 'sadness',\n",
              " 'sadness']"
            ]
          },
          "metadata": {
            "tags": []
          },
          "execution_count": 128
        }
      ]
    },
    {
      "cell_type": "markdown",
      "metadata": {
        "id": "c-h-4iNKj2dn",
        "colab_type": "text"
      },
      "source": [
        "The above predictions made by my Neural Net model is related to sadness and fear growing in the world."
      ]
    }
  ]
}